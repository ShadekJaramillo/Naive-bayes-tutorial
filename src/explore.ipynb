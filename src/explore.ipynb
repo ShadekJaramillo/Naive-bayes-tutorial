{
    "cells": [
        {
            "cell_type": "code",
            "execution_count": 44,
            "metadata": {},
            "outputs": [],
            "source": [
                "import pandas as pd\n",
                "import utils\n",
                "import matplotlib.pyplot as plt\n",
                "import seaborn as sns\n",
                "\n",
                "from sklearn.model_selection import train_test_split, GridSearchCV\n",
                "from sklearn.feature_extraction.text import CountVectorizer\n",
                "from sklearn.naive_bayes import MultinomialNB\n",
                "from sklearn.metrics import accuracy_score, recall_score\n",
                "from sklearn.tree import DecisionTreeClassifier\n",
                "from sklearn.linear_model import LogisticRegression\n",
                "\n",
                "from math import ceil\n",
                "from pickle import dump"
            ]
        },
        {
            "cell_type": "code",
            "execution_count": 10,
            "metadata": {},
            "outputs": [
                {
                    "name": "stdout",
                    "output_type": "stream",
                    "text": [
                        "Database successfully loaded\n"
                    ]
                }
            ],
            "source": [
                "raw_df = utils.load_reviews_db()"
            ]
        },
        {
            "cell_type": "code",
            "execution_count": 11,
            "metadata": {},
            "outputs": [
                {
                    "data": {
                        "text/html": [
                            "<div>\n",
                            "<style scoped>\n",
                            "    .dataframe tbody tr th:only-of-type {\n",
                            "        vertical-align: middle;\n",
                            "    }\n",
                            "\n",
                            "    .dataframe tbody tr th {\n",
                            "        vertical-align: top;\n",
                            "    }\n",
                            "\n",
                            "    .dataframe thead th {\n",
                            "        text-align: right;\n",
                            "    }\n",
                            "</style>\n",
                            "<table border=\"1\" class=\"dataframe\">\n",
                            "  <thead>\n",
                            "    <tr style=\"text-align: right;\">\n",
                            "      <th></th>\n",
                            "      <th>package_name</th>\n",
                            "      <th>review</th>\n",
                            "      <th>polarity</th>\n",
                            "    </tr>\n",
                            "    <tr>\n",
                            "      <th>index</th>\n",
                            "      <th></th>\n",
                            "      <th></th>\n",
                            "      <th></th>\n",
                            "    </tr>\n",
                            "  </thead>\n",
                            "  <tbody>\n",
                            "    <tr>\n",
                            "      <th>0</th>\n",
                            "      <td>com.facebook.katana</td>\n",
                            "      <td>privacy at least put some option appear offli...</td>\n",
                            "      <td>0</td>\n",
                            "    </tr>\n",
                            "    <tr>\n",
                            "      <th>1</th>\n",
                            "      <td>com.facebook.katana</td>\n",
                            "      <td>messenger issues ever since the last update, ...</td>\n",
                            "      <td>0</td>\n",
                            "    </tr>\n",
                            "    <tr>\n",
                            "      <th>2</th>\n",
                            "      <td>com.facebook.katana</td>\n",
                            "      <td>profile any time my wife or anybody has more ...</td>\n",
                            "      <td>0</td>\n",
                            "    </tr>\n",
                            "    <tr>\n",
                            "      <th>3</th>\n",
                            "      <td>com.facebook.katana</td>\n",
                            "      <td>the new features suck for those of us who don...</td>\n",
                            "      <td>0</td>\n",
                            "    </tr>\n",
                            "    <tr>\n",
                            "      <th>4</th>\n",
                            "      <td>com.facebook.katana</td>\n",
                            "      <td>forced reload on uploading pic on replying co...</td>\n",
                            "      <td>0</td>\n",
                            "    </tr>\n",
                            "    <tr>\n",
                            "      <th>...</th>\n",
                            "      <td>...</td>\n",
                            "      <td>...</td>\n",
                            "      <td>...</td>\n",
                            "    </tr>\n",
                            "    <tr>\n",
                            "      <th>886</th>\n",
                            "      <td>com.rovio.angrybirds</td>\n",
                            "      <td>loved it i loooooooooooooovvved it because it...</td>\n",
                            "      <td>1</td>\n",
                            "    </tr>\n",
                            "    <tr>\n",
                            "      <th>887</th>\n",
                            "      <td>com.rovio.angrybirds</td>\n",
                            "      <td>all time legendary game the birthday party le...</td>\n",
                            "      <td>1</td>\n",
                            "    </tr>\n",
                            "    <tr>\n",
                            "      <th>888</th>\n",
                            "      <td>com.rovio.angrybirds</td>\n",
                            "      <td>ads are way to heavy listen to the bad review...</td>\n",
                            "      <td>0</td>\n",
                            "    </tr>\n",
                            "    <tr>\n",
                            "      <th>889</th>\n",
                            "      <td>com.rovio.angrybirds</td>\n",
                            "      <td>fun works perfectly well. ads aren't as annoy...</td>\n",
                            "      <td>1</td>\n",
                            "    </tr>\n",
                            "    <tr>\n",
                            "      <th>890</th>\n",
                            "      <td>com.rovio.angrybirds</td>\n",
                            "      <td>they're everywhere i see angry birds everywhe...</td>\n",
                            "      <td>1</td>\n",
                            "    </tr>\n",
                            "  </tbody>\n",
                            "</table>\n",
                            "<p>891 rows × 3 columns</p>\n",
                            "</div>"
                        ],
                        "text/plain": [
                            "               package_name  ... polarity\n",
                            "index                        ...         \n",
                            "0       com.facebook.katana  ...        0\n",
                            "1       com.facebook.katana  ...        0\n",
                            "2       com.facebook.katana  ...        0\n",
                            "3       com.facebook.katana  ...        0\n",
                            "4       com.facebook.katana  ...        0\n",
                            "...                     ...  ...      ...\n",
                            "886    com.rovio.angrybirds  ...        1\n",
                            "887    com.rovio.angrybirds  ...        1\n",
                            "888    com.rovio.angrybirds  ...        0\n",
                            "889    com.rovio.angrybirds  ...        1\n",
                            "890    com.rovio.angrybirds  ...        1\n",
                            "\n",
                            "[891 rows x 3 columns]"
                        ]
                    },
                    "execution_count": 11,
                    "metadata": {},
                    "output_type": "execute_result"
                }
            ],
            "source": [
                "raw_df"
            ]
        },
        {
            "cell_type": "code",
            "execution_count": 26,
            "metadata": {},
            "outputs": [
                {
                    "data": {
                        "text/plain": [
                            "polarity\n",
                            "0    584\n",
                            "1    307\n",
                            "Name: count, dtype: int64"
                        ]
                    },
                    "execution_count": 26,
                    "metadata": {},
                    "output_type": "execute_result"
                }
            ],
            "source": [
                "raw_df.polarity.value_counts()"
            ]
        },
        {
            "cell_type": "code",
            "execution_count": 13,
            "metadata": {},
            "outputs": [],
            "source": [
                "df = raw_df.copy()\n",
                "df[\"review\"] = raw_df[\"review\"].str.strip().str.lower()"
            ]
        },
        {
            "cell_type": "code",
            "execution_count": 23,
            "metadata": {},
            "outputs": [],
            "source": [
                "vec_model = CountVectorizer(stop_words = \"english\")\n",
                "\n",
                "x = df.review\n",
                "y = df.polarity\n",
                "\n",
                "x_train, x_test, y_train, y_test =train_test_split(x, y, test_size=0.2, random_state=42)\n",
                "\n",
                "x_train = vec_model.fit_transform(x_train).toarray()\n",
                "x_test = vec_model.transform(x_test).toarray()\n"
            ]
        },
        {
            "cell_type": "code",
            "execution_count": 27,
            "metadata": {},
            "outputs": [
                {
                    "name": "stdout",
                    "output_type": "stream",
                    "text": [
                        "accuracy:   0.8156424581005587\n",
                        "recall:     0.6037735849056604\n"
                    ]
                }
            ],
            "source": [
                "model = MultinomialNB()\n",
                "model.fit(x_train, y_train)\n",
                "\n",
                "y_pred = model.predict(x_test)\n",
                "\n",
                "acc_score = accuracy_score(y_test, y_pred)\n",
                "rec_score = recall_score(y_test, y_pred)\n",
                "\n",
                "print(f'accuracy:   {acc_score}')\n",
                "print(f'recall:     {rec_score}')"
            ]
        },
        {
            "cell_type": "code",
            "execution_count": 30,
            "metadata": {},
            "outputs": [
                {
                    "name": "stdout",
                    "output_type": "stream",
                    "text": [
                        "{'alpha': 0.5, 'fit_prior': False}\n",
                        "accuracy:   0.8044692737430168\n",
                        "recall:     0.660377358490566\n"
                    ]
                }
            ],
            "source": [
                "grid = {\n",
                "    'alpha':[0.001,0.1,0.5,1, 3],\n",
                "    'fit_prior':[True,False]\n",
                "}\n",
                "\n",
                "grid = GridSearchCV(model, grid, scoring='balanced_accuracy')\n",
                "grid.fit(x_train, y_train)\n",
                "\n",
                "y_pred = grid.best_estimator_.predict(x_test)\n",
                "params = grid.best_params_\n",
                "\n",
                "acc_score = accuracy_score(y_test, y_pred)\n",
                "rec_score = recall_score(y_test, y_pred)\n",
                "\n",
                "print(params)\n",
                "print(f'accuracy:   {acc_score}')\n",
                "print(f'recall:     {rec_score}')"
            ]
        },
        {
            "cell_type": "code",
            "execution_count": 39,
            "metadata": {},
            "outputs": [],
            "source": [
                "import os.path as path\n",
                "\n",
                "model_name = 'MultinomialNB'\n",
                "param_string_list = ['_' + param.replace('_','') + '_' + str(value) \n",
                "                     for param, value in params.items()]\n",
                "model_name += ''.join(param_string_list) + '.sav'\n",
                "\n",
                "model_path = path.join('..','models',model_name)\n",
                "dump(grid.best_estimator_,open(model_path,'wb'))\n",
                "\n"
            ]
        },
        {
            "cell_type": "code",
            "execution_count": null,
            "metadata": {},
            "outputs": [
                {
                    "name": "stdout",
                    "output_type": "stream",
                    "text": [
                        "accuracy:   0.7150837988826816\n",
                        "recall:     0.6037735849056604\n"
                    ]
                }
            ],
            "source": [
                "tree_model = DecisionTreeClassifier(random_state=42)\n",
                "tree_model.fit(x_train,y_train)\n",
                "y_pred = tree_model.predict(x_test)\n",
                "\n",
                "acc_score = accuracy_score(y_test, y_pred)\n",
                "rec_score = recall_score(y_test, y_pred)\n",
                "\n",
                "print(f'accuracy:   {acc_score}')\n",
                "print(f'recall:     {rec_score}')\n",
                "\n"
            ]
        },
        {
            "cell_type": "code",
            "execution_count": 45,
            "metadata": {},
            "outputs": [
                {
                    "name": "stdout",
                    "output_type": "stream",
                    "text": [
                        "accuracy:   0.8324022346368715\n",
                        "recall:     0.8113207547169812\n"
                    ]
                }
            ],
            "source": [
                "tree_model = LogisticRegression(random_state=42)\n",
                "tree_model.fit(x_train,y_train)\n",
                "y_pred = tree_model.predict(x_test)\n",
                "\n",
                "acc_score = accuracy_score(y_test, y_pred)\n",
                "rec_score = recall_score(y_test, y_pred)\n",
                "\n",
                "print(f'accuracy:   {acc_score}')\n",
                "print(f'recall:     {rec_score}')"
            ]
        }
    ],
    "metadata": {
        "kernelspec": {
            "display_name": "venv",
            "language": "python",
            "name": "python3"
        },
        "language_info": {
            "codemirror_mode": {
                "name": "ipython",
                "version": 3
            },
            "file_extension": ".py",
            "mimetype": "text/x-python",
            "name": "python",
            "nbconvert_exporter": "python",
            "pygments_lexer": "ipython3",
            "version": "3.13.2"
        },
        "orig_nbformat": 4
    },
    "nbformat": 4,
    "nbformat_minor": 2
}
